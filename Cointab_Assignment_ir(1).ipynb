{
 "cells": [
  {
   "cell_type": "markdown",
   "metadata": {
    "id": "y2qpu3xyEoDP"
   },
   "source": [
    "\n",
    "# *Data Analyst - Assignment*"
   ]
  },
  {
   "cell_type": "code",
   "execution_count": 6,
   "metadata": {
    "colab": {
     "base_uri": "https://localhost:8080/"
    },
    "id": "5gpxQN0yG3Bu",
    "outputId": "d3ab344e-11b4-4744-c679-6f4e4e3bc101"
   },
   "outputs": [
    {
     "name": "stdout",
     "output_type": "stream",
     "text": [
      "Missing Values in d:/Projects/COINTAB/Assignment_Data/Company X - Order Report.xlsx:\n",
      "ExternOrderNo    0\n",
      "SKU              0\n",
      "Order Qty        0\n",
      "dtype: int64\n",
      "Missing Values in d:/Projects/COINTAB/Assignment_Data/Company X - Pincode Zones.xlsx:\n",
      "Warehouse Pincode    0\n",
      "Customer Pincode     0\n",
      "Zone                 0\n",
      "dtype: int64\n",
      "Missing Values in d:/Projects/COINTAB/Assignment_Data/Company X - SKU Master.xlsx:\n",
      "SKU           0\n",
      "Weight (g)    0\n",
      "dtype: int64\n",
      "Missing Values in d:/Projects/COINTAB/Assignment_Data/Courier Company - Invoice.xlsx:\n",
      "AWB Code                0\n",
      "Order ID                0\n",
      "Charged Weight          0\n",
      "Warehouse Pincode       0\n",
      "Customer Pincode        0\n",
      "Zone                    0\n",
      "Type of Shipment        0\n",
      "Billing Amount (Rs.)    0\n",
      "dtype: int64\n",
      "Missing Values in d:/Projects/COINTAB/Assignment_Data/Courier Company - Rates.xlsx:\n",
      "Zone                                     0\n",
      "Weight Slabs                             0\n",
      "Forward Fixed Charge                     0\n",
      "Forward Additional Weight Slab Charge    0\n",
      "RTO Fixed Charge                         0\n",
      "RTO Additional Weight Slab Charge        0\n",
      "dtype: int64\n",
      "Number of duplicate rows in d:/Projects/COINTAB/Assignment_Data/Company X - Order Report.xlsx: 2\n",
      "Number of duplicate rows in d:/Projects/COINTAB/Assignment_Data/Company X - Pincode Zones.xlsx: 16\n",
      "Number of duplicate rows in d:/Projects/COINTAB/Assignment_Data/Company X - SKU Master.xlsx: 1\n",
      "Number of duplicate rows in d:/Projects/COINTAB/Assignment_Data/Courier Company - Invoice.xlsx: 0\n",
      "Number of duplicate rows in d:/Projects/COINTAB/Assignment_Data/Courier Company - Rates.xlsx: 0\n"
     ]
    }
   ],
   "source": [
    "import math\n",
    "import numpy as np\n",
    "import pandas as pd\n",
    "\n",
    "# File paths\n",
    "files = [\n",
    "    \"d:/Projects/COINTAB/Assignment_Data/Company X - Order Report.xlsx\",\n",
    "    \"d:/Projects/COINTAB/Assignment_Data/Company X - Pincode Zones.xlsx\",\n",
    "    \"d:/Projects/COINTAB/Assignment_Data/Company X - SKU Master.xlsx\",\n",
    "    \"d:/Projects/COINTAB/Assignment_Data/Courier Company - Invoice.xlsx\",\n",
    "    \"d:/Projects/COINTAB/Assignment_Data/Courier Company - Rates.xlsx\"\n",
    "]\n",
    "\n",
    "# Read data from Excel files\n",
    "order_report, pin_zone, sku, invoice, rates = [pd.read_excel(file) for file in files]\n",
    "\n",
    "# Check for missing values\n",
    "missing_values = {f\"{file}\": df.isna().sum() for file, df in zip(files, [order_report, pin_zone, sku, invoice, rates])}\n",
    "print(\"\\n\".join([f\"Missing Values in {file}:\\n{values}\" for file, values in missing_values.items()]))\n",
    "\n",
    "# Check for duplicate rows\n",
    "duplicate_values = {f\"{file}\": df.duplicated().sum() for file, df in zip(files, [order_report, pin_zone, sku, invoice, rates])}\n",
    "print(\"\\n\".join([f\"Number of duplicate rows in {file}: {value}\" for file, value in duplicate_values.items()]))\n",
    "\n",
    "# Remove duplicate rows\n",
    "order_report, sku, pin_zone = [df.drop_duplicates() for df in [order_report, sku, pin_zone]]\n",
    "\n",
    "# Merge relevant data\n",
    "data = order_report.merge(sku, how='left', on='SKU')\n",
    "data['Total_Weight_by_X(kg)'] = data['Weight (g)'] * data['Order Qty'] / 1000\n",
    "data = data.drop(labels=['Order Qty', 'Weight (g)', 'SKU'], axis=1)\n",
    "data = data.groupby(by=['ExternOrderNo'], as_index=False).sum()\n",
    "data = data.merge(invoice, how='left', left_on='ExternOrderNo', right_on='Order ID')\n",
    "data = data.merge(pin_zone, how='left', on=['Warehouse Pincode', 'Customer Pincode']).rename(columns={'Zone_x': 'Zone_by_Courier', 'Zone_y': 'Zone_by_X'})\n",
    "\n",
    "rates['Zone'] = rates['Zone'].str.lower()\n",
    "data = data.merge(rates, how='left', left_on='Zone_by_X', right_on='Zone')\n",
    "\n",
    "# Calculate charges\n",
    "data['Forward_additional_charge'] = (data['Total_Weight_by_X(kg)'] / data['Weight Slabs']).astype(int) * data['Forward Additional Weight Slab Charge']\n",
    "data['RTO_fixed_charge'] = data.apply(lambda row: row['RTO Fixed Charge'] if row['Type of Shipment'] == 'Forward and RTO charges' else 0, axis=1)\n",
    "data['RTO_additional_charge'] = data.apply(lambda row: math.floor(row['Total_Weight_by_X(kg)'] / row['Weight Slabs']) * row['RTO Additional Weight Slab Charge'] if row['Type of Shipment'] == 'Forward and RTO charges' else 0, axis=1)\n",
    "data['Expected_charges'] = data[['Forward Fixed Charge', 'Forward_additional_charge', 'RTO_fixed_charge', 'RTO_additional_charge']].sum(axis=1)\n",
    "data['diff_charges'] = data['Expected_charges'] - data['Billing Amount (Rs.)']\n",
    "data['Weight_slabs_Courier'] = data['Zone_by_Courier'].map({'a': 0.25, 'b': 0.5, 'c': 0.75, 'd': 1.25, 'e': 1.5})\n",
    "data['over_or_under_charged'] = np.select([data['diff_charges'] == 0, data['diff_charges'] > 0, data['diff_charges'] < 0],\n",
    "                                           ['X correctly charged', 'X Undercharged', 'X Overcharged'])\n",
    "\n",
    "# Prepare output DataFrames\n",
    "output = data[['Order ID', 'AWB Code', 'Total_Weight_by_X(kg)', 'Weight Slabs', 'Charged Weight', 'Weight_slabs_Courier', 'Zone_by_X',\n",
    "               'Zone_by_Courier', 'Expected_charges', 'Billing Amount (Rs.)', 'diff_charges']]\n",
    "\n",
    "summary = pd.DataFrame(index=['Total orders where X has been correctly charged',\n",
    "                              'Total Orders where X has been overcharged',\n",
    "                              'Total Orders where X has been undercharged'], columns=['Count', 'Amount(Rs.)'])\n",
    "summary['Count'] = [(data['diff_charges'] == 0).sum(),\n",
    "                    (data['diff_charges'] < 0).sum(),\n",
    "                    (data['diff_charges'] > 0).sum()]\n",
    "summary['Amount(Rs.)'] = [data.loc[data['diff_charges'] == 0, 'Billing Amount (Rs.)'].sum(),\n",
    "                          abs(data.loc[data['diff_charges'] < 0, 'diff_charges'].sum()),\n",
    "                          data.loc[data['diff_charges'] > 0, 'diff_charges'].sum()]\n",
    "\n",
    "# Write output to Excel files\n",
    "output.to_excel(\"d:/Projects/COINTAB/Assignment_Data/Output.xlsx\", index=False)\n",
    "summary.to_excel(\"d:/Projects/COINTAB/Assignment_Data/Summary.xlsx\")\n"
   ]
  },
  {
   "cell_type": "code",
   "execution_count": null,
   "metadata": {},
   "outputs": [],
   "source": []
  },
  {
   "cell_type": "code",
   "execution_count": null,
   "metadata": {},
   "outputs": [],
   "source": []
  }
 ],
 "metadata": {
  "colab": {
   "provenance": []
  },
  "kernelspec": {
   "display_name": "Python 3 (ipykernel)",
   "language": "python",
   "name": "python3"
  },
  "language_info": {
   "codemirror_mode": {
    "name": "ipython",
    "version": 3
   },
   "file_extension": ".py",
   "mimetype": "text/x-python",
   "name": "python",
   "nbconvert_exporter": "python",
   "pygments_lexer": "ipython3",
   "version": "3.11.5"
  }
 },
 "nbformat": 4,
 "nbformat_minor": 1
}
